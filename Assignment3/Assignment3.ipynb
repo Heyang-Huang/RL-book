{
 "cells": [
  {
   "cell_type": "code",
   "execution_count": 1,
   "metadata": {},
   "outputs": [],
   "source": [
    "from dataclasses import dataclass\n",
    "from typing import Tuple, Dict\n",
    "import numpy as np\n",
    "\n",
    "\n",
    "#from ..Assignment2.markov_process import MarkovRewardProcess\n",
    "#from ..rl.markov_process import FiniteMarkovRewardProcess\n",
    "#from ..rl.markov_process import RewardTransition\n",
    "#from ..rl.distribution import SampledDistribution, Categorical\n"
   ]
  },
  {
   "cell_type": "markdown",
   "metadata": {},
   "source": [
    "# P1"
   ]
  },
  {
   "cell_type": "markdown",
   "metadata": {},
   "source": [
    "$\\pi _D(s) \\text{ is the determnistic action at state s that }$ π(s, πD(s)) = 1 and π(s, a) = 0 for all a ∈ A with a ̸= πD(s)\n",
    "1) $V^{\\pi}(s)=\\sum_{a\\in A}\\pi (s,a)Q^{\\pi}(s,a) \\text{ --------> }V^{\\pi_D}(s)=Q^{\\pi_D}(s,\\pi _D(s))$  \n",
    "2) $Q_\\pi (s,a)=R(s,a)+\\gamma* \\sum_{s' \\in N} P(s,a,s') V^{\\pi}(s')\\text{ --------> }Q^{\\pi_D}(s,\\pi _D(s))=R(s,{\\pi_D}(s))+\\gamma* \\sum_{s' \\in N} P(s,\\pi _D(s),s')V^{\\pi_D}(s')$\n",
    "<br>3) $Q_\\pi (s,a)=R(s,a)+\\gamma* \\sum_{s' \\in N} P(s,a,s') \\sum_{a\\in A}\\pi (s',a)Q^{\\pi}(s',a)\\text{ ----> }Q^{\\pi_D}(s,\\pi _D(s))=R(s,{\\pi_D}(s))+\\gamma* \\sum_{s' \\in N} P(s,\\pi _D(s),s')Q^{\\pi_D}(s',\\pi _D(s'))$\n",
    "<br>4)$V^{\\pi}(s)=\\sum_{a\\in A}\\pi (s,a)(R(s,a)+\\gamma* \\sum_{s' \\in N} P(s,a,s')V^{\\pi}(s'))\\text{ --------> }\n",
    "V^{\\pi_D}(s)=R(s,\\pi _D(s))+\\gamma* \\sum_{s' \\in N} P(s,\\pi _D(s),s')V^{\\pi}(s')\n",
    "$"
   ]
  },
  {
   "cell_type": "markdown",
   "metadata": {},
   "source": [
    "# P2"
   ]
  },
  {
   "cell_type": "markdown",
   "metadata": {},
   "source": [
    "for this specific question, by symmetry $V^*(s)=V^*(s+1)$ and $\\pi^*(s)=\\pi^*(s+1)$\n",
    "<br>Therefore, $V^*(s)=max_{a\\in[0,1]}\\{(a(1-a)+(1-a)(1+a))+\\gamma*(aV^*(s+1)+(1-a)V^*(s))\\}$\n",
    "<br> $V^*(s)=max_{a\\in[0,1]}\\{-2a^2+a+1\\}+\\gamma*V^*(s)$\n",
    "<br>We then have: $a^*={1\\over 4} \\text{ and } V^*(s)={9\\over 8}$\n",
    "<br><br>$ \\begin{cases}\n",
    "        \\pi^*(s)=\\pi_D^*(s)=\n",
    "                \\begin{cases}\n",
    "                  \\pi(s,a)=1 & \\text{if }a={1\\over 4}\\\\   \n",
    "                  \\pi(s,a)=0  & \\text{OTW}\n",
    "                \\end{cases} \\\\\n",
    "         V^*(s)={9\\over 8}\n",
    "      \\end{cases} \\quad \\quad \\quad \\text{ for all } s$\n"
   ]
  },
  {
   "cell_type": "markdown",
   "metadata": {},
   "source": [
    "# P3"
   ]
  },
  {
   "cell_type": "markdown",
   "metadata": {},
   "source": [
    "I have already done this problem in practice midterm. Will write this out again later."
   ]
  },
  {
   "cell_type": "markdown",
   "metadata": {},
   "source": [
    "# P4"
   ]
  },
  {
   "cell_type": "markdown",
   "metadata": {},
   "source": [
    "$Min_{a \\in R} \\{{1 \\over \\sigma \\sqrt{2 \\pi}}\\int_{-\\infty}^{\\infty} e^{as'} e^{-0.5({s'-s\\over \\sigma})^2}\\,ds'\\}$-------- eq1\n",
    "<br>equivalent to ${d \\over d_{a}}\\int_{-\\infty}^{\\infty} e^{as'} e^{-0.5({s'-s\\over \\sigma})^2}\\,ds' =0$\n",
    "<br>equivalent to $\\int_{-\\infty}^{\\infty} s'e^{as'} e^{-0.5({s'-s\\over \\sigma})^2}\\,ds' =0$"
   ]
  },
  {
   "cell_type": "markdown",
   "metadata": {},
   "source": [
    "Solve for $a$ and assume $a$=$a^*$. $a^*$ then is the determinitic optimal action and optimal cost can be derived by plug $a^*$ back in the eq1"
   ]
  },
  {
   "cell_type": "code",
   "execution_count": null,
   "metadata": {},
   "outputs": [],
   "source": []
  }
 ],
 "metadata": {
  "kernelspec": {
   "display_name": "Python 3",
   "language": "python",
   "name": "python3"
  },
  "language_info": {
   "codemirror_mode": {
    "name": "ipython",
    "version": 3
   },
   "file_extension": ".py",
   "mimetype": "text/x-python",
   "name": "python",
   "nbconvert_exporter": "python",
   "pygments_lexer": "ipython3",
   "version": "3.8.5"
  }
 },
 "nbformat": 4,
 "nbformat_minor": 4
}
