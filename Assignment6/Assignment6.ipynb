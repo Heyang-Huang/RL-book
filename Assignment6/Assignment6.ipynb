{
 "cells": [
  {
   "cell_type": "markdown",
   "metadata": {},
   "source": [
    "# p2 CRRA with log\n",
    "\n"
   ]
  },
  {
   "cell_type": "markdown",
   "metadata": {},
   "source": [
    "### Follow the textbool procedure:"
   ]
  },
  {
   "cell_type": "markdown",
   "metadata": {},
   "source": [
    "$v(y,n)={1-\\beta^n \\over 1-\\beta} log^{{  1-\\beta \\over 1-\\beta^n }y}+log(\\beta)(\\beta{1-\\beta^{n-1} \\over (1-\\beta)^2}+{(n-1)\\beta^n \\over 1-\\beta} )$"
   ]
  },
  {
   "cell_type": "markdown",
   "metadata": {},
   "source": [
    "# p1\n",
    "\n"
   ]
  },
  {
   "cell_type": "markdown",
   "metadata": {},
   "source": [
    "$E[U(x)]=E[x-\\alpha x^2/2]=E[x]-{\\alpha \\over 2}E[x^2]=\\mu-{\\alpha \\over 2}(\\sigma ^2+\\mu ^2)$"
   ]
  },
  {
   "cell_type": "markdown",
   "metadata": {},
   "source": [
    "$x_{ce}-\\alpha x_{ce}^2/=\\mu-{\\alpha \\over 2}(\\sigma ^2+\\mu ^2)$\n",
    "<br> We can then easily solve\n",
    "$x_{ce}$ \n",
    "with quadratic function above"
   ]
  },
  {
   "cell_type": "markdown",
   "metadata": {},
   "source": [
    "$\\pi_A=E[U(x)]-x_{ce}$"
   ]
  },
  {
   "cell_type": "code",
   "execution_count": 8,
   "metadata": {},
   "outputs": [
    {
     "data": {
      "text/plain": [
       "[<matplotlib.lines.Line2D at 0x242c72c1550>]"
      ]
     },
     "execution_count": 8,
     "metadata": {},
     "output_type": "execute_result"
    },
    {
     "data": {
      "image/png": "[encoded data removed]",
      "text/plain": [
       "<Figure size 432x288 with 1 Axes>"
      ]
     },
     "metadata": {
      "needs_background": "light"
     },
     "output_type": "display_data"
    }
   ],
   "source": [
    "\n",
    "import matplotlib.pyplot as plt\n",
    "import numpy as np\n",
    "alpha = np.linspace(0.01,1,10000)\n",
    "r = 0.05\n",
    "sigma = 0.07\n",
    "mu = 0.1\n",
    "z = (10**6*(1+r)*(1+r-mu)-(1+r-mu)/alpha)/((1+r-mu)**2+sigma**2)\n",
    "plt.plot(alpha,z)"
   ]
  },
  {
   "cell_type": "code",
   "execution_count": null,
   "metadata": {},
   "outputs": [],
   "source": []
  }
 ],
 "metadata": {
  "kernelspec": {
   "display_name": "Python 3",
   "language": "python",
   "name": "python3"
  },
  "language_info": {
   "codemirror_mode": {
    "name": "ipython",
    "version": 3
   },
   "file_extension": ".py",
   "mimetype": "text/x-python",
   "name": "python",
   "nbconvert_exporter": "python",
   "pygments_lexer": "ipython3",
   "version": "3.8.5"
  }
 },
 "nbformat": 4,
 "nbformat_minor": 4
}
